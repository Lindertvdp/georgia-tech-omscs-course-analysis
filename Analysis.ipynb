{
 "cells": [
  {
   "cell_type": "code",
   "execution_count": 288,
   "id": "afff061c-c77d-4480-8917-6df3212dbf8c",
   "metadata": {
    "tags": []
   },
   "outputs": [],
   "source": [
    "import configparser\n",
    "import requests\n",
    "from bs4 import BeautifulSoup\n",
    "import pandas as pd\n",
    "import re"
   ]
  },
  {
   "cell_type": "code",
   "execution_count": 305,
   "id": "69262ea7-e3d8-457d-b6dd-656d947ed156",
   "metadata": {
    "tags": []
   },
   "outputs": [
    {
     "data": {
      "text/plain": [
       "['config.ini']"
      ]
     },
     "execution_count": 305,
     "metadata": {},
     "output_type": "execute_result"
    }
   ],
   "source": [
    "config = configparser.ConfigParser()\n",
    "config.read('config.ini')"
   ]
  },
  {
   "cell_type": "markdown",
   "id": "95894549-47b9-498d-a6b4-f509c95bf68b",
   "metadata": {
    "tags": []
   },
   "source": [
    "# Active course list of the OMSCS Georgia Tech program"
   ]
  },
  {
   "cell_type": "code",
   "execution_count": 292,
   "id": "cb86b8a4-cb83-4ac1-ba51-41620a930384",
   "metadata": {
    "tags": []
   },
   "outputs": [],
   "source": [
    "current_courses_url = config.get('Paths', 'current_gatech_omscs_courses_url')\n",
    "\n",
    "# Fetch the courses currently offered by GT\n",
    "response = requests.get(specializations_url)\n",
    "soup = BeautifulSoup(response.content, 'html.parser')\n",
    "\n",
    "# Find the h4 heading that says 'Current & Ongoing OMS Courses'\n",
    "h4_element = soup.find('h4', string='Current & Ongoing OMS Courses')\n",
    "\n",
    "# Get the next ul element, which contains all active courses\n",
    "ul_element = h4_element.find_next('ul')\n",
    "\n",
    "# Remove sup tags before extracting text\n",
    "for sup in ul_element.find_all('sup'):\n",
    "    sup.decompose()\n",
    "\n",
    "# Extract the list item content\n",
    "course_list = [' '.join(li.get_text().split()) for li in ul_element.find_all('li')]"
   ]
  },
  {
   "cell_type": "code",
   "execution_count": 293,
   "id": "ecd89537-0f0c-4611-a4d9-a29f8f76e859",
   "metadata": {
    "tags": []
   },
   "outputs": [],
   "source": [
    "# Function to extract old course code and clean course name\n",
    "def extract_old_course_code(course_name):\n",
    "    match = re.search(r'\\((formerly (.+?))\\)', course_name)\n",
    "    if match:\n",
    "        old_code = match.group(2)\n",
    "        new_name = course_name[:match.start()].strip()\n",
    "        return new_name, old_code\n",
    "    return course_name, None"
   ]
  },
  {
   "cell_type": "code",
   "execution_count": 294,
   "id": "3973ca23-5ea4-4354-838c-b481b75d4d64",
   "metadata": {
    "tags": []
   },
   "outputs": [],
   "source": [
    "# Convert raw course list to initial dataframe\n",
    "df = pd.DataFrame(course_list, columns=['Raw Course'])\n",
    "\n",
    "# Remove asterisk if present\n",
    "df['Raw Course'] = df['Raw Course'].apply(lambda x: x[1:] if x.startswith('*') else x)\n",
    "\n",
    "# Split into Course Code and Course Name\n",
    "df['Course Code'] = df['Raw Course'].str.split(':').str[0]\n",
    "df['Course Name'] = df['Raw Course'].str.split(':').str[1]\n",
    "\n",
    "# Apply the function to extract Course Name and Old Course Code\n",
    "df[['Course Name', 'Old Course Code']] = df['Course Name'].apply(lambda x: pd.Series(extract_old_course_code(x)))"
   ]
  }
 ],
 "metadata": {
  "kernelspec": {
   "display_name": "Python 3 (ipykernel)",
   "language": "python",
   "name": "python3"
  },
  "language_info": {
   "codemirror_mode": {
    "name": "ipython",
    "version": 3
   },
   "file_extension": ".py",
   "mimetype": "text/x-python",
   "name": "python",
   "nbconvert_exporter": "python",
   "pygments_lexer": "ipython3",
   "version": "3.11.5"
  }
 },
 "nbformat": 4,
 "nbformat_minor": 5
}
